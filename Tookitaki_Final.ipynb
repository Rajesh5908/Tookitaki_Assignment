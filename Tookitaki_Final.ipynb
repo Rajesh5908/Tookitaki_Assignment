{
 "cells": [
  {
   "cell_type": "code",
   "execution_count": 1,
   "metadata": {
    "collapsed": true
   },
   "outputs": [],
   "source": [
    "import numpy as np\n",
    "import pandas as pd\n",
    "import datetime\n",
    "from scipy import stats\n",
    "from sklearn.preprocessing import normalize, Imputer"
   ]
  },
  {
   "cell_type": "markdown",
   "metadata": {},
   "source": [
    "# Importing Train Data"
   ]
  },
  {
   "cell_type": "code",
   "execution_count": 2,
   "metadata": {
    "collapsed": true
   },
   "outputs": [],
   "source": [
    "df_data_train = pd.read_csv('raw_data_70_new.csv', engine= 'python')\n",
    "df_account_train = pd.read_csv('raw_account_70_new.csv', engine = 'python', parse_dates = ['dt_opened','upload_dt', 'opened_dt', 'paymt_str_dt', 'paymt_end_dt','last_paymt_dt','closed_dt','reporting_dt'])\n",
    "df_enquiry_train = pd.read_csv('raw_enquiry_70_new.csv', engine = 'python', parse_dates = ['dt_opened','upload_dt', 'enquiry_dt'])"
   ]
  },
  {
   "cell_type": "code",
   "execution_count": 3,
   "metadata": {
    "collapsed": true
   },
   "outputs": [],
   "source": [
    "def findMode(arr):\n",
    "    return (stats.mode(arr)).mode"
   ]
  },
  {
   "cell_type": "code",
   "execution_count": 4,
   "metadata": {
    "collapsed": true
   },
   "outputs": [],
   "source": [
    "def paymthistorylength(x):\n",
    "    count=0\n",
    "    for index, str in np.ndenumerate(x):\n",
    "        str = str.strip('\"\"\"')\n",
    "        count+=len(str)\n",
    "    return count/len(x)"
   ]
  },
  {
   "cell_type": "code",
   "execution_count": 5,
   "metadata": {
    "collapsed": true
   },
   "outputs": [],
   "source": [
    "def countAccount(x):\n",
    "    count=0\n",
    "    for index, item in np.ndenumerate(x.values):\n",
    "        if item in [1,2,3,4,5,6,7,8,9,13,15,17,32,33,34,41,41,42,51,54,59,60]:\n",
    "            count+=1\n",
    "    return count/len(x)"
   ]
  },
  {
   "cell_type": "code",
   "execution_count": 6,
   "metadata": {
    "collapsed": true
   },
   "outputs": [],
   "source": [
    "def frequencyOfDPD(arr):\n",
    "    value = []\n",
    "    count=0\n",
    "    for index, x in np.ndenumerate(arr):\n",
    "        dpdlist=[]\n",
    "        x = x.strip('\"\"\"')\n",
    "        f = [x[i:i+3] for i in range(0,len(x),3)]\n",
    "        for each in f:\n",
    "            try:\n",
    "                dpdlist.append(int(each))\n",
    "                continue\n",
    "            except(ValueError, Exception) as e:\n",
    "                continue\n",
    "        if dpdlist:\n",
    "            value.append(len(dpdlist))\n",
    "        else:\n",
    "            value.append(0)\n",
    "    return value"
   ]
  },
  {
   "cell_type": "code",
   "execution_count": 7,
   "metadata": {
    "collapsed": true
   },
   "outputs": [],
   "source": [
    "def latestNdpd(arr,freq=None):\n",
    "    value = []\n",
    "    for index, x in np.ndenumerate(arr):\n",
    "        dpdlist=[]\n",
    "        count=0\n",
    "        x = x.strip('\"\"\"')\n",
    "        f = [x[i:i+3] for i in range(0,len(x),3)]\n",
    "        for each in f:\n",
    "            try:\n",
    "                dpdlist.append(int(each))\n",
    "                continue\n",
    "            except(ValueError, Exception) as e:\n",
    "                dpdlist.append(0)\n",
    "                continue\n",
    "        if dpdlist:\n",
    "            if freq==None:\n",
    "                for dpd in dpdlist:\n",
    "                    count+=dpd\n",
    "                value.append(count)\n",
    "            else:\n",
    "                try:\n",
    "                    if dpdlist[freq-1]!=0:\n",
    "                        value.append(1)\n",
    "                        continue\n",
    "                    else:\n",
    "                        value.append(0)\n",
    "                except(IndexError) as e:\n",
    "                    value.append(0)\n",
    "                    continue\n",
    "        else:\n",
    "            value.append(0)\n",
    "    return value"
   ]
  },
  {
   "cell_type": "code",
   "execution_count": 8,
   "metadata": {
    "collapsed": true
   },
   "outputs": [],
   "source": [
    "def countCredit(x):\n",
    "    count=0\n",
    "    for index, item in np.ndenumerate(x.values):\n",
    "        if item in [10,35,14,31]:\n",
    "            count+=1\n",
    "    return count/len(x)"
   ]
  },
  {
   "cell_type": "code",
   "execution_count": 9,
   "metadata": {},
   "outputs": [
    {
     "data": {
      "text/plain": [
       "dt_opened          0\n",
       "customer_no        0\n",
       "entry_time        15\n",
       "feature_1         15\n",
       "feature_2       2836\n",
       "feature_3       2836\n",
       "feature_4         15\n",
       "feature_5         15\n",
       "feature_6         15\n",
       "feature_7         15\n",
       "feature_8      22635\n",
       "feature_9      22635\n",
       "feature_10     23845\n",
       "feature_11        15\n",
       "feature_12        15\n",
       "feature_13     13004\n",
       "feature_14      7733\n",
       "feature_15        23\n",
       "feature_16        27\n",
       "feature_17     22869\n",
       "feature_18     23878\n",
       "feature_19        15\n",
       "feature_20         0\n",
       "feature_21        15\n",
       "feature_22         0\n",
       "feature_23        15\n",
       "feature_24       640\n",
       "feature_25        15\n",
       "feature_26        15\n",
       "feature_27      3637\n",
       "               ...  \n",
       "feature_51     11422\n",
       "feature_52        15\n",
       "feature_53     11610\n",
       "feature_54        15\n",
       "feature_55        15\n",
       "feature_56        15\n",
       "feature_57     21503\n",
       "feature_58        15\n",
       "feature_59        15\n",
       "feature_60        15\n",
       "feature_61     23887\n",
       "feature_62        15\n",
       "feature_63        15\n",
       "feature_64        15\n",
       "feature_65        15\n",
       "feature_66        15\n",
       "feature_67        15\n",
       "feature_68        15\n",
       "feature_69        15\n",
       "feature_70        15\n",
       "feature_71        15\n",
       "feature_72        15\n",
       "feature_73     20951\n",
       "feature_74     23879\n",
       "feature_75        15\n",
       "feature_76        15\n",
       "feature_77         0\n",
       "feature_78        15\n",
       "feature_79        15\n",
       "Bad_label          0\n",
       "Length: 83, dtype: int64"
      ]
     },
     "execution_count": 9,
     "metadata": {},
     "output_type": "execute_result"
    }
   ],
   "source": [
    "df_data_train.isnull().sum()"
   ]
  },
  {
   "cell_type": "code",
   "execution_count": 10,
   "metadata": {},
   "outputs": [
    {
     "data": {
      "text/plain": [
       "dt_opened        0\n",
       "customer_no      0\n",
       "upload_dt      110\n",
       "enquiry_dt     110\n",
       "enq_purpose    110\n",
       "enq_amt        110\n",
       "dtype: int64"
      ]
     },
     "execution_count": 10,
     "metadata": {},
     "output_type": "execute_result"
    }
   ],
   "source": [
    "df_enquiry_train.isnull().sum()"
   ]
  },
  {
   "cell_type": "code",
   "execution_count": 11,
   "metadata": {},
   "outputs": [
    {
     "data": {
      "text/plain": [
       "dt_opened                   0\n",
       "customer_no                 0\n",
       "upload_dt                   0\n",
       "acct_type                   0\n",
       "owner_indic                 0\n",
       "opened_dt                 455\n",
       "last_paymt_dt           25487\n",
       "closed_dt              109075\n",
       "reporting_dt                0\n",
       "high_credit_amt          8875\n",
       "cur_balance_amt             0\n",
       "amt_past_due           185453\n",
       "paymenthistory1             0\n",
       "paymenthistory2        107824\n",
       "paymt_str_dt                1\n",
       "paymt_end_dt                1\n",
       "creditlimit            137477\n",
       "cashlimit              151047\n",
       "rateofinterest         161496\n",
       "paymentfrequency       122436\n",
       "actualpaymentamount    145276\n",
       "dtype: int64"
      ]
     },
     "execution_count": 11,
     "metadata": {},
     "output_type": "execute_result"
    }
   ],
   "source": [
    "df_account_train.isnull().sum()"
   ]
  },
  {
   "cell_type": "code",
   "execution_count": 12,
   "metadata": {
    "collapsed": true
   },
   "outputs": [],
   "source": [
    "newdf_train = df_account_train\n",
    "newdf1_train = df_enquiry_train"
   ]
  },
  {
   "cell_type": "code",
   "execution_count": 13,
   "metadata": {
    "collapsed": true
   },
   "outputs": [],
   "source": [
    "#  Assuming current date for null last_paymt_dt.\n",
    "newdf_train.last_paymt_dt.fillna(datetime.datetime.now(),inplace=True)"
   ]
  },
  {
   "cell_type": "code",
   "execution_count": 14,
   "metadata": {
    "collapsed": true
   },
   "outputs": [],
   "source": [
    "# Assuming value of 0.0001 for null high_credit_amt and then high_credit_amt is assumed for null creditlimit.\n",
    "newdf_train.high_credit_amt.fillna(0.0001, inplace=True)\n",
    "newdf_train.creditlimit.fillna(newdf_train.high_credit_amt, inplace=True)"
   ]
  },
  {
   "cell_type": "code",
   "execution_count": 15,
   "metadata": {},
   "outputs": [
    {
     "data": {
      "text/plain": [
       "dt_opened                        0\n",
       "customer_no                      0\n",
       "upload_dt                        0\n",
       "acct_type                        0\n",
       "owner_indic                      0\n",
       "opened_dt                      455\n",
       "last_paymt_dt                    0\n",
       "closed_dt                   109075\n",
       "reporting_dt                     0\n",
       "high_credit_amt                  0\n",
       "cur_balance_amt                  0\n",
       "amt_past_due                185453\n",
       "paymenthistory1                  0\n",
       "paymenthistory2             107824\n",
       "paymt_str_dt                     1\n",
       "paymt_end_dt                     1\n",
       "creditlimit                      0\n",
       "cashlimit                   151047\n",
       "rateofinterest              161496\n",
       "paymentfrequency            122436\n",
       "actualpaymentamount         145276\n",
       "diff_opened_lastPaymt_dt       455\n",
       "dtype: int64"
      ]
     },
     "execution_count": 15,
     "metadata": {},
     "output_type": "execute_result"
    }
   ],
   "source": [
    "newdf_train['diff_opened_lastPaymt_dt'] = newdf_train['opened_dt'].sub(newdf_train['last_paymt_dt'], axis=0)\n",
    "newdf_train['diff_opened_lastPaymt_dt'] = newdf_train['diff_opened_lastPaymt_dt'] / np.timedelta64(1, 'D')\n",
    "newdf_train.isnull().sum(axis=0)"
   ]
  },
  {
   "cell_type": "markdown",
   "metadata": {},
   "source": [
    "\n",
    "# Deriving Train Dataset Account Attriutes"
   ]
  },
  {
   "cell_type": "code",
   "execution_count": 16,
   "metadata": {
    "collapsed": true
   },
   "outputs": [],
   "source": [
    "newdf_train['highcr_creditlimt'] = newdf_train['high_credit_amt'] - newdf_train['creditlimit']\n",
    "newdf_train['currBal_highcr'] = newdf_train['cur_balance_amt'] - newdf_train['high_credit_amt']\n",
    "newdf_train['currbal_creditlimit'] = newdf_train['cur_balance_amt'] - newdf_train['creditlimit']\n"
   ]
  },
  {
   "cell_type": "code",
   "execution_count": 17,
   "metadata": {
    "collapsed": true
   },
   "outputs": [],
   "source": [
    "newdf_train['1DPDReported'] = latestNdpd(newdf_train['paymenthistory1'].values, freq=1)\n",
    "newdf_train['2DPDReported'] = newdf_train['1DPDReported'] | latestNdpd(newdf_train['paymenthistory1'].values, freq=2)\n",
    "newdf_train['3DPDReported'] = newdf_train['2DPDReported'] | latestNdpd(newdf_train['paymenthistory1'].values, freq=3)\n",
    "newdf_train['totalDPD'] = latestNdpd(newdf_train['paymenthistory1'].values)\n",
    "newdf_train['frequencyofDPDreported'] = frequencyOfDPD(newdf_train['paymenthistory1'].values)"
   ]
  },
  {
   "cell_type": "code",
   "execution_count": 18,
   "metadata": {},
   "outputs": [
    {
     "data": {
      "text/plain": [
       "array([('customer_no', ''), ('acct_type', 'count'),\n",
       "       ('diff_opened_lastPaymt_dt', 'mean'),\n",
       "       ('diff_opened_lastPaymt_dt', 'sum'), ('highcr_creditlimt', 'mean'),\n",
       "       ('highcr_creditlimt', 'sum'), ('currBal_highcr', 'mean'),\n",
       "       ('currBal_highcr', 'sum'), ('currbal_creditlimit', 'mean'),\n",
       "       ('currbal_creditlimit', 'sum'), ('1DPDReported', 'mean'),\n",
       "       ('1DPDReported', 'sum'), ('2DPDReported', 'mean'),\n",
       "       ('2DPDReported', 'sum'), ('3DPDReported', 'mean'),\n",
       "       ('3DPDReported', 'sum'), ('totalDPD', 'mean'), ('totalDPD', 'sum'),\n",
       "       ('frequencyofDPDreported', 'mean'),\n",
       "       ('frequencyofDPDreported', 'sum'), ('cur_balance_amt', 'mean'),\n",
       "       ('cur_balance_amt', 'sum'), ('cur_balance_amt', 'std'),\n",
       "       ('cur_balance_amt', 'count'), ('creditlimit', 'mean'),\n",
       "       ('creditlimit', 'sum'), ('creditlimit', 'std'),\n",
       "       ('high_credit_amt', 'mean'), ('high_credit_amt', 'sum'),\n",
       "       ('high_credit_amt', 'std')], dtype=object)"
      ]
     },
     "execution_count": 18,
     "metadata": {},
     "output_type": "execute_result"
    }
   ],
   "source": [
    "group1_train = newdf_train.groupby('customer_no', as_index=False).agg({'acct_type': ['count'],'diff_opened_lastPaymt_dt': ['mean','sum'],'highcr_creditlimt': ['mean','sum'],'currBal_highcr': ['mean','sum'], 'currbal_creditlimit': ['mean','sum'], '1DPDReported': ['mean','sum'], '2DPDReported': ['mean','sum'], '3DPDReported': ['mean','sum'], 'totalDPD': ['mean','sum'], 'frequencyofDPDreported': ['mean','sum'], 'cur_balance_amt': ['mean','sum','std','count'], 'creditlimit': ['mean','sum','std'], 'high_credit_amt': ['mean','sum','std']})\n",
    "group1_train.columns.values"
   ]
  },
  {
   "cell_type": "code",
   "execution_count": 19,
   "metadata": {
    "collapsed": true
   },
   "outputs": [],
   "source": [
    "df_derived_train = pd.DataFrame()\n",
    "df_derived_train['customer_no'] = group1_train['customer_no']"
   ]
  },
  {
   "cell_type": "code",
   "execution_count": 20,
   "metadata": {},
   "outputs": [
    {
     "data": {
      "text/plain": [
       "0"
      ]
     },
     "execution_count": 20,
     "metadata": {},
     "output_type": "execute_result"
    }
   ],
   "source": [
    "df_derived_train['diff_opened_lastPaymt_dt_sum'] = group1_train[('diff_opened_lastPaymt_dt','sum')]\n",
    "df_derived_train['diff_highcr_creditlim_mean'] = group1_train[('highcr_creditlimt','mean')]\n",
    "df_derived_train['1DPDReported_mean'] = group1_train[('1DPDReported','mean')]\n",
    "df_derived_train['2DPDReported_mean'] = group1_train[('2DPDReported','mean')]\n",
    "df_derived_train['3DPDReported_mean'] = group1_train[('3DPDReported','mean')]\n",
    "df_derived_train['totalDPD_sum'] = group1_train[('3DPDReported','sum')]\n",
    "df_derived_train['frequencyofDPDreported_mean'] = group1_train[('frequencyofDPDreported','mean')]\n",
    "\n",
    "df_derived_train['ratio_totalCurrbal_totalcrlim'] = group1_train[('cur_balance_amt','sum')]/group1_train[('creditlimit','sum')]\n",
    "df_derived_train['ratio_totalCurrbal_totalhighCr'] = group1_train[('cur_balance_amt','sum')]/group1_train[('high_credit_amt','sum')]\n",
    "df_derived_train['ratio_totalhighcr_totalcrlim'] = group1_train[('high_credit_amt','sum')]/group1_train[('creditlimit','sum')]\n",
    "df_derived_train.isnull().sum().sum()"
   ]
  },
  {
   "cell_type": "code",
   "execution_count": 21,
   "metadata": {
    "collapsed": true
   },
   "outputs": [],
   "source": [
    "d1_train = newdf_train.groupby('customer_no',as_index=False)['acct_type'].apply(countCredit).reset_index(name='creditcount')\n",
    "df_derived_train['avg_creditcount'] = d1_train.creditcount"
   ]
  },
  {
   "cell_type": "code",
   "execution_count": 22,
   "metadata": {
    "collapsed": true
   },
   "outputs": [],
   "source": [
    "d1_train = newdf_train.groupby('customer_no',as_index=False)['acct_type'].apply(countAccount).reset_index(name='loancount')\n",
    "df_derived_train['avg_loancount'] = d1_train.loancount/group1_train[('acct_type','count')]"
   ]
  },
  {
   "cell_type": "code",
   "execution_count": 23,
   "metadata": {
    "collapsed": true
   },
   "outputs": [],
   "source": [
    "d1_train = newdf_train.groupby('customer_no',as_index=False)['paymenthistory1'].apply(paymthistorylength).reset_index(name='historylength')\n",
    "df_derived_train['avg_payhistlength'] = d1_train.historylength"
   ]
  },
  {
   "cell_type": "code",
   "execution_count": 24,
   "metadata": {
    "collapsed": true
   },
   "outputs": [],
   "source": [
    "d_1_train = newdf_train[newdf_train['high_credit_amt'] > newdf_train['creditlimit']]\n",
    "g_1_train = d_1_train.groupby('customer_no').size().reset_index(name='count')\n",
    "g_2_train = newdf_train.groupby('customer_no').size().reset_index(name='count')\n",
    "l_train = (g_2_train[~g_2_train['customer_no'].isin(g_1_train['customer_no'])==True].customer_no).tolist()\n",
    "d_train = pd.DataFrame()\n",
    "d_train['customer_no'] = l_train\n",
    "d_train['count'] = [0 for i in range(len(d_train))]\n",
    "d1_train = pd.concat([g_1_train, d_train], ignore_index=True)\n",
    "d1_train.sort_values('customer_no',inplace=True)\n",
    "d1_train.reset_index(drop=True,inplace=True)\n",
    "d1_train['meancount'] = d1_train['count']/group1_train[('acct_type','count')]\n",
    "df_derived_train['meanAcctWithHighCrGreaterThanCreditLim'] = d1_train['meancount']"
   ]
  },
  {
   "cell_type": "code",
   "execution_count": 25,
   "metadata": {
    "collapsed": true
   },
   "outputs": [],
   "source": [
    "d_1_train = newdf_train[newdf_train['cur_balance_amt'] == 0]\n",
    "g_1_train = d_1_train.groupby('customer_no').size().reset_index(name='count')\n",
    "g_2_train = newdf_train.groupby('customer_no').size().reset_index(name='count')\n",
    "l_train = (g_2_train[~g_2_train['customer_no'].isin(g_1_train['customer_no'])==True].customer_no).tolist()\n",
    "d_train = pd.DataFrame()\n",
    "d_train['customer_no'] = l_train\n",
    "d_train['count'] = [0 for i in range(len(d_train))]\n",
    "d1_train = pd.concat([g_1_train, d_train], ignore_index=True)\n",
    "d1_train.sort_values('customer_no',inplace=True)\n",
    "d1_train.reset_index(drop=True,inplace=True)\n",
    "d1_train['meancount'] = d1_train['count']/group1_train[('acct_type','count')]\n",
    "df_derived_train['meanAcctWithCurrBalEqualsZero'] = d1_train['count']"
   ]
  },
  {
   "cell_type": "markdown",
   "metadata": {},
   "source": [
    "# Deriving Train Enquiry Attributes "
   ]
  },
  {
   "cell_type": "code",
   "execution_count": 26,
   "metadata": {
    "collapsed": true
   },
   "outputs": [],
   "source": [
    "d1_train = newdf1_train.enquiry_dt.values\n",
    "d2_train = d1_train[1:]\n",
    "d2_train = np.append(d2_train,d1_train[-1])\n",
    "d_train = (d2_train-d1_train)/np.timedelta64(1, 'D')\n",
    "newdf1_train['GapEnquiryDates'] = abs(d_train)"
   ]
  },
  {
   "cell_type": "code",
   "execution_count": 27,
   "metadata": {
    "collapsed": true
   },
   "outputs": [],
   "source": [
    "group2_train = newdf1_train.groupby('customer_no', as_index=False).agg({'dt_opened': ['count'],'upload_dt': ['count'],'enquiry_dt': ['count'],'enq_purpose': ['count'], 'enq_amt': ['count'],'enq_purpose': findMode,'GapEnquiryDates': ['mean','sum']})"
   ]
  },
  {
   "cell_type": "code",
   "execution_count": 28,
   "metadata": {
    "collapsed": true
   },
   "outputs": [],
   "source": [
    "df_derived_train['meanGapEnquiryDates'] = group2_train[('GapEnquiryDates','mean')]"
   ]
  },
  {
   "cell_type": "code",
   "execution_count": 29,
   "metadata": {
    "collapsed": true
   },
   "outputs": [],
   "source": [
    "df_derived_train['mostFrequentEnquiryPorpose'] = group2_train[('enq_purpose','findMode')]"
   ]
  },
  {
   "cell_type": "code",
   "execution_count": 30,
   "metadata": {
    "collapsed": true
   },
   "outputs": [],
   "source": [
    "values = []\n",
    "for i in group2_train.customer_no:\n",
    "    values.append(newdf1_train[newdf1_train.customer_no==i].enq_purpose.values[0])\n",
    "df_derived_train['mostRecentEnquiryPorpose'] = values"
   ]
  },
  {
   "cell_type": "code",
   "execution_count": 31,
   "metadata": {
    "collapsed": true
   },
   "outputs": [],
   "source": [
    "newdf2_train = df_data_train.select_dtypes(['float64', 'int64', 'float32','int32'])\n",
    "for col in newdf2_train.columns.values.tolist():\n",
    "    df_derived_train[col] = newdf2_train[col]"
   ]
  },
  {
   "cell_type": "code",
   "execution_count": 32,
   "metadata": {
    "collapsed": true
   },
   "outputs": [],
   "source": [
    "# Since most of the Imp Features has been derived already, Remaining features are less significant and those columns with higher Null Vlaues can be removed/drop.  \n",
    "\n",
    "df_derived_trian = df_derived_train.drop(['feature_3','feature_74','feature_49','feature_14'], axis = 1, inplace = True)"
   ]
  },
  {
   "cell_type": "code",
   "execution_count": 33,
   "metadata": {},
   "outputs": [
    {
     "data": {
      "text/plain": [
       "customer_no                                 0\n",
       "diff_opened_lastPaymt_dt_sum                0\n",
       "diff_highcr_creditlim_mean                  0\n",
       "1DPDReported_mean                           0\n",
       "2DPDReported_mean                           0\n",
       "3DPDReported_mean                           0\n",
       "totalDPD_sum                                0\n",
       "frequencyofDPDreported_mean                 0\n",
       "ratio_totalCurrbal_totalcrlim               0\n",
       "ratio_totalCurrbal_totalhighCr              0\n",
       "ratio_totalhighcr_totalcrlim                0\n",
       "avg_creditcount                             0\n",
       "avg_loancount                               0\n",
       "avg_payhistlength                           0\n",
       "meanAcctWithHighCrGreaterThanCreditLim      0\n",
       "meanAcctWithCurrBalEqualsZero               0\n",
       "meanGapEnquiryDates                       110\n",
       "mostFrequentEnquiryPorpose                  0\n",
       "mostRecentEnquiryPorpose                  109\n",
       "feature_4                                  15\n",
       "feature_6                                  15\n",
       "feature_7                                  15\n",
       "feature_19                                 15\n",
       "feature_25                                 15\n",
       "feature_26                                 15\n",
       "feature_29                                 15\n",
       "feature_30                                 15\n",
       "feature_31                                 15\n",
       "feature_34                                 15\n",
       "feature_35                                 15\n",
       "feature_39                                 15\n",
       "feature_40                                 15\n",
       "feature_41                                 15\n",
       "feature_42                                 15\n",
       "feature_44                                 15\n",
       "feature_52                                 15\n",
       "feature_55                                 15\n",
       "feature_56                                 15\n",
       "feature_64                                 15\n",
       "feature_65                                 15\n",
       "feature_66                                 15\n",
       "feature_67                                 15\n",
       "feature_68                                 15\n",
       "feature_69                                 15\n",
       "feature_71                                 15\n",
       "feature_76                                 15\n",
       "feature_78                                 15\n",
       "Bad_label                                   0\n",
       "dtype: int64"
      ]
     },
     "execution_count": 33,
     "metadata": {},
     "output_type": "execute_result"
    }
   ],
   "source": [
    "df_derived_train.isnull().sum()"
   ]
  },
  {
   "cell_type": "code",
   "execution_count": 34,
   "metadata": {
    "collapsed": true
   },
   "outputs": [],
   "source": [
    "Final_Train = df_derived_train"
   ]
  },
  {
   "cell_type": "code",
   "execution_count": 35,
   "metadata": {
    "scrolled": true
   },
   "outputs": [
    {
     "data": {
      "text/plain": [
       "48"
      ]
     },
     "execution_count": 35,
     "metadata": {},
     "output_type": "execute_result"
    }
   ],
   "source": [
    "len(df_derived_train.columns.values)"
   ]
  },
  {
   "cell_type": "code",
   "execution_count": 36,
   "metadata": {
    "collapsed": true
   },
   "outputs": [],
   "source": [
    "# df_derived_train.replace(np.nan,NaN,inplace=True)\n",
    "df_derived_train.replace(np.inf,np.nan,inplace=True)\n",
    "df_derived_train.replace(-np.inf,np.nan,inplace=True)\n",
    "df_derived_train.to_csv('C:\\\\Users\\\\Admin\\\\Desktop\\\\Tookitaki\\\\Final_train')"
   ]
  },
  {
   "cell_type": "code",
   "execution_count": null,
   "metadata": {
    "collapsed": true
   },
   "outputs": [],
   "source": []
  },
  {
   "cell_type": "markdown",
   "metadata": {},
   "source": [
    "#  Importing Test Data"
   ]
  },
  {
   "cell_type": "code",
   "execution_count": 37,
   "metadata": {
    "collapsed": true
   },
   "outputs": [],
   "source": [
    "df_data_test = pd.read_csv('raw_data_30_new.csv', engine= 'python')\n",
    "df_account_test = pd.read_csv('raw_account_30_new.csv', engine = 'python', parse_dates = ['dt_opened','upload_dt', 'opened_dt', 'paymt_str_dt', 'paymt_end_dt','last_paymt_dt','closed_dt','reporting_dt'])\n",
    "df_enquiry_test = pd.read_csv('raw_enquiry_30_new.csv', engine = 'python', parse_dates = ['dt_opened','upload_dt', 'enquiry_dt'])"
   ]
  },
  {
   "cell_type": "code",
   "execution_count": 38,
   "metadata": {},
   "outputs": [
    {
     "data": {
      "text/plain": [
       "dt_opened          0\n",
       "customer_no        0\n",
       "entry_time         9\n",
       "feature_1          9\n",
       "feature_2       1211\n",
       "feature_3       1211\n",
       "feature_4          9\n",
       "feature_5          9\n",
       "feature_6          9\n",
       "feature_7          9\n",
       "feature_8       9708\n",
       "feature_9       9708\n",
       "feature_10     10220\n",
       "feature_11         9\n",
       "feature_12         9\n",
       "feature_13      5518\n",
       "feature_14      3263\n",
       "feature_15        14\n",
       "feature_16        12\n",
       "feature_17      9812\n",
       "feature_18     10227\n",
       "feature_19         9\n",
       "feature_20         0\n",
       "feature_21         9\n",
       "feature_22         0\n",
       "feature_23         9\n",
       "feature_24       276\n",
       "feature_25         9\n",
       "feature_26         9\n",
       "feature_27      1533\n",
       "               ...  \n",
       "feature_51      4916\n",
       "feature_52         9\n",
       "feature_53      4984\n",
       "feature_54         9\n",
       "feature_55         9\n",
       "feature_56         9\n",
       "feature_57      9202\n",
       "feature_58         9\n",
       "feature_59         9\n",
       "feature_60         9\n",
       "feature_61     10234\n",
       "feature_62         9\n",
       "feature_63         9\n",
       "feature_64         9\n",
       "feature_65         9\n",
       "feature_66         9\n",
       "feature_67         9\n",
       "feature_68         9\n",
       "feature_69         9\n",
       "feature_70         9\n",
       "feature_71         9\n",
       "feature_72         9\n",
       "feature_73      8966\n",
       "feature_74     10233\n",
       "feature_75         9\n",
       "feature_76         9\n",
       "feature_77         0\n",
       "feature_78         9\n",
       "feature_79         9\n",
       "Bad_label          0\n",
       "Length: 83, dtype: int64"
      ]
     },
     "execution_count": 38,
     "metadata": {},
     "output_type": "execute_result"
    }
   ],
   "source": [
    "# Since Most of the attributes in Train & Test Datasets are same, we can repeat the same pre-processing steps that has done for Train Dataset\n",
    "\n",
    "df_data_test.isnull().sum()"
   ]
  },
  {
   "cell_type": "code",
   "execution_count": 40,
   "metadata": {},
   "outputs": [
    {
     "data": {
      "text/plain": [
       "dt_opened       0\n",
       "customer_no     0\n",
       "upload_dt      42\n",
       "enquiry_dt     42\n",
       "enq_purpose    42\n",
       "enq_amt        42\n",
       "dtype: int64"
      ]
     },
     "execution_count": 40,
     "metadata": {},
     "output_type": "execute_result"
    }
   ],
   "source": [
    "df_enquiry_test.isnull().sum()"
   ]
  },
  {
   "cell_type": "code",
   "execution_count": 41,
   "metadata": {},
   "outputs": [
    {
     "data": {
      "text/plain": [
       "dt_opened                  0\n",
       "customer_no                0\n",
       "upload_dt                  0\n",
       "acct_type                  0\n",
       "owner_indic                0\n",
       "opened_dt                174\n",
       "last_paymt_dt          10703\n",
       "closed_dt              46643\n",
       "reporting_dt               0\n",
       "high_credit_amt         3695\n",
       "cur_balance_amt            0\n",
       "amt_past_due           79170\n",
       "paymenthistory1            0\n",
       "paymenthistory2        46299\n",
       "paymt_str_dt               1\n",
       "paymt_end_dt               1\n",
       "creditlimit            59076\n",
       "cashlimit              64823\n",
       "rateofinterest         69061\n",
       "paymentfrequency       52537\n",
       "actualpaymentamount    62305\n",
       "dtype: int64"
      ]
     },
     "execution_count": 41,
     "metadata": {},
     "output_type": "execute_result"
    }
   ],
   "source": [
    "df_account_test.isnull().sum()"
   ]
  },
  {
   "cell_type": "code",
   "execution_count": 42,
   "metadata": {
    "collapsed": true
   },
   "outputs": [],
   "source": [
    "newdf_test = df_account_test\n",
    "newdf1_test = df_enquiry_test"
   ]
  },
  {
   "cell_type": "code",
   "execution_count": 43,
   "metadata": {
    "collapsed": true
   },
   "outputs": [],
   "source": [
    "#  Assuming current date for null last_paymt_dt.\n",
    "newdf_test.last_paymt_dt.fillna(datetime.datetime.now(),inplace=True)"
   ]
  },
  {
   "cell_type": "code",
   "execution_count": 44,
   "metadata": {
    "collapsed": true
   },
   "outputs": [],
   "source": [
    "# Assuming value of 0.0001 for null high_credit_amt and then high_credit_amt is assumed for null creditlimit.\n",
    "newdf_test.high_credit_amt.fillna(0.0001, inplace=True)\n",
    "newdf_test.creditlimit.fillna(newdf_test.high_credit_amt, inplace=True)"
   ]
  },
  {
   "cell_type": "code",
   "execution_count": 45,
   "metadata": {},
   "outputs": [
    {
     "data": {
      "text/plain": [
       "dt_opened                       0\n",
       "customer_no                     0\n",
       "upload_dt                       0\n",
       "acct_type                       0\n",
       "owner_indic                     0\n",
       "opened_dt                     174\n",
       "last_paymt_dt                   0\n",
       "closed_dt                   46643\n",
       "reporting_dt                    0\n",
       "high_credit_amt                 0\n",
       "cur_balance_amt                 0\n",
       "amt_past_due                79170\n",
       "paymenthistory1                 0\n",
       "paymenthistory2             46299\n",
       "paymt_str_dt                    1\n",
       "paymt_end_dt                    1\n",
       "creditlimit                     0\n",
       "cashlimit                   64823\n",
       "rateofinterest              69061\n",
       "paymentfrequency            52537\n",
       "actualpaymentamount         62305\n",
       "diff_opened_lastPaymt_dt      174\n",
       "dtype: int64"
      ]
     },
     "execution_count": 45,
     "metadata": {},
     "output_type": "execute_result"
    }
   ],
   "source": [
    "newdf_test['diff_opened_lastPaymt_dt'] = newdf_test['opened_dt'].sub(newdf_test['last_paymt_dt'], axis=0)\n",
    "newdf_test['diff_opened_lastPaymt_dt'] = newdf_test['diff_opened_lastPaymt_dt'] / np.timedelta64(1, 'D')\n",
    "newdf_test.isnull().sum(axis=0)"
   ]
  },
  {
   "cell_type": "markdown",
   "metadata": {},
   "source": [
    "# Deriving Test Dataset Account Attriutes"
   ]
  },
  {
   "cell_type": "code",
   "execution_count": 46,
   "metadata": {
    "collapsed": true
   },
   "outputs": [],
   "source": [
    "newdf_test['highcr_creditlimt'] = newdf_test['high_credit_amt'] - newdf_test['creditlimit']\n",
    "newdf_test['currBal_highcr'] = newdf_test['cur_balance_amt'] - newdf_test['high_credit_amt']\n",
    "newdf_test['currbal_creditlimit'] = newdf_test['cur_balance_amt'] - newdf_test['creditlimit']\n"
   ]
  },
  {
   "cell_type": "code",
   "execution_count": 47,
   "metadata": {
    "collapsed": true
   },
   "outputs": [],
   "source": [
    "newdf_test['1DPDReported'] = latestNdpd(newdf_test['paymenthistory1'].values, freq=1)\n",
    "newdf_test['2DPDReported'] = newdf_test['1DPDReported'] | latestNdpd(newdf_test['paymenthistory1'].values, freq=2)\n",
    "newdf_test['3DPDReported'] = newdf_test['2DPDReported'] | latestNdpd(newdf_test['paymenthistory1'].values, freq=3)\n",
    "newdf_test['totalDPD'] = latestNdpd(newdf_test['paymenthistory1'].values)\n",
    "newdf_test['frequencyofDPDreported'] = frequencyOfDPD(newdf_test['paymenthistory1'].values)"
   ]
  },
  {
   "cell_type": "code",
   "execution_count": 48,
   "metadata": {},
   "outputs": [
    {
     "data": {
      "text/plain": [
       "array([('customer_no', ''), ('acct_type', 'count'),\n",
       "       ('diff_opened_lastPaymt_dt', 'mean'),\n",
       "       ('diff_opened_lastPaymt_dt', 'sum'), ('highcr_creditlimt', 'mean'),\n",
       "       ('highcr_creditlimt', 'sum'), ('currBal_highcr', 'mean'),\n",
       "       ('currBal_highcr', 'sum'), ('currbal_creditlimit', 'mean'),\n",
       "       ('currbal_creditlimit', 'sum'), ('1DPDReported', 'mean'),\n",
       "       ('1DPDReported', 'sum'), ('2DPDReported', 'mean'),\n",
       "       ('2DPDReported', 'sum'), ('3DPDReported', 'mean'),\n",
       "       ('3DPDReported', 'sum'), ('totalDPD', 'mean'), ('totalDPD', 'sum'),\n",
       "       ('frequencyofDPDreported', 'mean'),\n",
       "       ('frequencyofDPDreported', 'sum'), ('cur_balance_amt', 'mean'),\n",
       "       ('cur_balance_amt', 'sum'), ('cur_balance_amt', 'std'),\n",
       "       ('cur_balance_amt', 'count'), ('creditlimit', 'mean'),\n",
       "       ('creditlimit', 'sum'), ('creditlimit', 'std'),\n",
       "       ('high_credit_amt', 'mean'), ('high_credit_amt', 'sum'),\n",
       "       ('high_credit_amt', 'std')], dtype=object)"
      ]
     },
     "execution_count": 48,
     "metadata": {},
     "output_type": "execute_result"
    }
   ],
   "source": [
    "group1_test = newdf_test.groupby('customer_no', as_index=False).agg({'acct_type': ['count'],'diff_opened_lastPaymt_dt': ['mean','sum'],'highcr_creditlimt': ['mean','sum'],'currBal_highcr': ['mean','sum'], 'currbal_creditlimit': ['mean','sum'], '1DPDReported': ['mean','sum'], '2DPDReported': ['mean','sum'], '3DPDReported': ['mean','sum'], 'totalDPD': ['mean','sum'], 'frequencyofDPDreported': ['mean','sum'], 'cur_balance_amt': ['mean','sum','std','count'], 'creditlimit': ['mean','sum','std'], 'high_credit_amt': ['mean','sum','std']})\n",
    "group1_test.columns.values"
   ]
  },
  {
   "cell_type": "code",
   "execution_count": 49,
   "metadata": {
    "collapsed": true
   },
   "outputs": [],
   "source": [
    "df_derived_test = pd.DataFrame()\n",
    "df_derived_test['customer_no'] = group1_test['customer_no']"
   ]
  },
  {
   "cell_type": "code",
   "execution_count": 50,
   "metadata": {},
   "outputs": [
    {
     "data": {
      "text/plain": [
       "0"
      ]
     },
     "execution_count": 50,
     "metadata": {},
     "output_type": "execute_result"
    }
   ],
   "source": [
    "df_derived_test['diff_opened_lastPaymt_dt_sum'] = group1_test[('diff_opened_lastPaymt_dt','sum')]\n",
    "df_derived_test['diff_highcr_creditlim_mean'] = group1_test[('highcr_creditlimt','mean')]\n",
    "df_derived_test['1DPDReported_mean'] = group1_test[('1DPDReported','mean')]\n",
    "df_derived_test['2DPDReported_mean'] = group1_test[('2DPDReported','mean')]\n",
    "df_derived_test['3DPDReported_mean'] = group1_test[('3DPDReported','mean')]\n",
    "df_derived_test['totalDPD_sum'] = group1_test[('3DPDReported','sum')]\n",
    "df_derived_test['frequencyofDPDreported_mean'] = group1_test[('frequencyofDPDreported','mean')]\n",
    "\n",
    "df_derived_test['ratio_totalCurrbal_totalcrlim'] = group1_test[('cur_balance_amt','sum')]/group1_test[('creditlimit','sum')]\n",
    "df_derived_test['ratio_totalCurrbal_totalhighCr'] = group1_test[('cur_balance_amt','sum')]/group1_test[('high_credit_amt','sum')]\n",
    "df_derived_test['ratio_totalhighcr_totalcrlim'] = group1_test[('high_credit_amt','sum')]/group1_test[('creditlimit','sum')]\n",
    "df_derived_test.isnull().sum().sum()"
   ]
  },
  {
   "cell_type": "code",
   "execution_count": 51,
   "metadata": {
    "collapsed": true
   },
   "outputs": [],
   "source": [
    "d1_test = newdf_test.groupby('customer_no',as_index=False)['acct_type'].apply(countCredit).reset_index(name='creditcount')\n",
    "df_derived_test['avg_creditcount'] = d1_test.creditcount"
   ]
  },
  {
   "cell_type": "code",
   "execution_count": 52,
   "metadata": {
    "collapsed": true
   },
   "outputs": [],
   "source": [
    "d1_test = newdf_test.groupby('customer_no',as_index=False)['acct_type'].apply(countAccount).reset_index(name='loancount')\n",
    "df_derived_test['avg_loancount'] = d1_test.loancount/group1_test[('acct_type','count')]"
   ]
  },
  {
   "cell_type": "code",
   "execution_count": 53,
   "metadata": {
    "collapsed": true
   },
   "outputs": [],
   "source": [
    "d1_test = newdf_test.groupby('customer_no',as_index=False)['paymenthistory1'].apply(paymthistorylength).reset_index(name='historylength')\n",
    "df_derived_test['avg_payhistlength'] = d1_test.historylength"
   ]
  },
  {
   "cell_type": "code",
   "execution_count": 54,
   "metadata": {
    "collapsed": true
   },
   "outputs": [],
   "source": [
    "d_1_test = newdf_test[newdf_test['high_credit_amt'] > newdf_test['creditlimit']]\n",
    "g_1_test = d_1_test.groupby('customer_no').size().reset_index(name='count')\n",
    "g_2_test = newdf_test.groupby('customer_no').size().reset_index(name='count')\n",
    "l_test = (g_2_test[~g_2_test['customer_no'].isin(g_1_test['customer_no'])==True].customer_no).tolist()\n",
    "d_test = pd.DataFrame()\n",
    "d_test['customer_no'] = l_test\n",
    "d_test['count'] = [0 for i in range(len(d_test))]\n",
    "d1_test = pd.concat([g_1_test, d_test], ignore_index=True)\n",
    "d1_test.sort_values('customer_no',inplace=True)\n",
    "d1_test.reset_index(drop=True,inplace=True)\n",
    "d1_test['meancount'] = d1_test['count']/group1_test[('acct_type','count')]\n",
    "df_derived_test['meanAcctWithHighCrGreaterThanCreditLim'] = d1_test['meancount']"
   ]
  },
  {
   "cell_type": "code",
   "execution_count": 55,
   "metadata": {
    "collapsed": true
   },
   "outputs": [],
   "source": [
    "d_1_test = newdf_test[newdf_test['cur_balance_amt'] == 0]\n",
    "g_1_test = d_1_test.groupby('customer_no').size().reset_index(name='count')\n",
    "g_2_test = newdf_test.groupby('customer_no').size().reset_index(name='count')\n",
    "l_test = (g_2_test[~g_2_test['customer_no'].isin(g_1_test['customer_no'])==True].customer_no).tolist()\n",
    "d_test = pd.DataFrame()\n",
    "d_test['customer_no'] = l_test\n",
    "d_test['count'] = [0 for i in range(len(d_test))]\n",
    "d1_test = pd.concat([g_1_test, d_test], ignore_index=True)\n",
    "d1_test.sort_values('customer_no',inplace=True)\n",
    "d1_test.reset_index(drop=True,inplace=True)\n",
    "d1_test['meancount'] = d1_test['count']/group1_test[('acct_type','count')]\n",
    "df_derived_test['meanAcctWithCurrBalEqualsZero'] = d1_test['count']"
   ]
  },
  {
   "cell_type": "markdown",
   "metadata": {
    "collapsed": true
   },
   "source": [
    "# Deriving Test Enquiry Attributes "
   ]
  },
  {
   "cell_type": "code",
   "execution_count": 56,
   "metadata": {
    "collapsed": true
   },
   "outputs": [],
   "source": [
    "d1_test = newdf1_test.enquiry_dt.values\n",
    "d2_test = d1_test[1:]\n",
    "d2_test = np.append(d2_test,d1_test[-1])\n",
    "d_test = (d2_test-d1_test)/np.timedelta64(1, 'D')\n",
    "newdf1_test['GapEnquiryDates'] = abs(d_test)"
   ]
  },
  {
   "cell_type": "code",
   "execution_count": 57,
   "metadata": {
    "collapsed": true
   },
   "outputs": [],
   "source": [
    "group2_test = newdf1_test.groupby('customer_no', as_index=False).agg({'dt_opened': ['count'],'upload_dt': ['count'],'enquiry_dt': ['count'],'enq_purpose': ['count'], 'enq_amt': ['count'],'enq_purpose': findMode,'GapEnquiryDates': ['mean','sum']})"
   ]
  },
  {
   "cell_type": "code",
   "execution_count": 58,
   "metadata": {
    "collapsed": true
   },
   "outputs": [],
   "source": [
    "df_derived_test['meanGapEnquiryDates'] = group2_test[('GapEnquiryDates','mean')]"
   ]
  },
  {
   "cell_type": "code",
   "execution_count": 59,
   "metadata": {
    "collapsed": true
   },
   "outputs": [],
   "source": [
    "df_derived_test['mostFrequentEnquiryPorpose'] = group2_test[('enq_purpose','findMode')]"
   ]
  },
  {
   "cell_type": "code",
   "execution_count": 60,
   "metadata": {
    "collapsed": true
   },
   "outputs": [],
   "source": [
    "values = []\n",
    "for i in group2_test.customer_no:\n",
    "    values.append(newdf1_test[newdf1_test.customer_no==i].enq_purpose.values[0])\n",
    "df_derived_test['mostRecentEnquiryPorpose'] = values"
   ]
  },
  {
   "cell_type": "code",
   "execution_count": 61,
   "metadata": {
    "collapsed": true
   },
   "outputs": [],
   "source": [
    "newdf2_test = df_data_test.select_dtypes(['float64', 'int64', 'float32','int32'])\n",
    "for col in newdf2_test.columns.values.tolist():\n",
    "    df_derived_test[col] = newdf2_test[col]"
   ]
  },
  {
   "cell_type": "code",
   "execution_count": 62,
   "metadata": {
    "collapsed": true
   },
   "outputs": [],
   "source": [
    "# Since most of the Imp Features has been derived already, Remaining features are less significant and those columns with higher Null Vlaues can be removed/drop.  \n",
    "\n",
    "df_derived_trian = df_derived_test.drop(['feature_3','feature_74','feature_49','feature_14'], axis = 1, inplace = True)"
   ]
  },
  {
   "cell_type": "code",
   "execution_count": 63,
   "metadata": {},
   "outputs": [
    {
     "data": {
      "text/plain": [
       "customer_no                                0\n",
       "diff_opened_lastPaymt_dt_sum               0\n",
       "diff_highcr_creditlim_mean                 0\n",
       "1DPDReported_mean                          0\n",
       "2DPDReported_mean                          0\n",
       "3DPDReported_mean                          0\n",
       "totalDPD_sum                               0\n",
       "frequencyofDPDreported_mean                0\n",
       "ratio_totalCurrbal_totalcrlim              0\n",
       "ratio_totalCurrbal_totalhighCr             0\n",
       "ratio_totalhighcr_totalcrlim               0\n",
       "avg_creditcount                            0\n",
       "avg_loancount                              0\n",
       "avg_payhistlength                          0\n",
       "meanAcctWithHighCrGreaterThanCreditLim     0\n",
       "meanAcctWithCurrBalEqualsZero              0\n",
       "meanGapEnquiryDates                       43\n",
       "mostFrequentEnquiryPorpose                 0\n",
       "mostRecentEnquiryPorpose                  42\n",
       "feature_4                                  9\n",
       "feature_6                                  9\n",
       "feature_7                                  9\n",
       "feature_19                                 9\n",
       "feature_25                                 9\n",
       "feature_26                                 9\n",
       "feature_29                                 9\n",
       "feature_30                                 9\n",
       "feature_31                                 9\n",
       "feature_34                                 9\n",
       "feature_35                                 9\n",
       "feature_39                                 9\n",
       "feature_40                                 9\n",
       "feature_41                                 9\n",
       "feature_42                                 9\n",
       "feature_44                                 9\n",
       "feature_52                                 9\n",
       "feature_55                                 9\n",
       "feature_56                                 9\n",
       "feature_64                                 9\n",
       "feature_65                                 9\n",
       "feature_66                                 9\n",
       "feature_67                                 9\n",
       "feature_68                                 9\n",
       "feature_69                                 9\n",
       "feature_71                                 9\n",
       "feature_76                                 9\n",
       "feature_78                                 9\n",
       "Bad_label                                  0\n",
       "dtype: int64"
      ]
     },
     "execution_count": 63,
     "metadata": {},
     "output_type": "execute_result"
    }
   ],
   "source": [
    "df_derived_test.isnull().sum()"
   ]
  },
  {
   "cell_type": "code",
   "execution_count": 64,
   "metadata": {
    "collapsed": true
   },
   "outputs": [],
   "source": [
    "Final_Test = df_derived_test"
   ]
  },
  {
   "cell_type": "code",
   "execution_count": 65,
   "metadata": {},
   "outputs": [
    {
     "data": {
      "text/plain": [
       "48"
      ]
     },
     "execution_count": 65,
     "metadata": {},
     "output_type": "execute_result"
    }
   ],
   "source": [
    "len(df_derived_test.columns.values)"
   ]
  },
  {
   "cell_type": "code",
   "execution_count": 66,
   "metadata": {
    "collapsed": true
   },
   "outputs": [],
   "source": [
    "# df_derived_test.replace(np.nan,NaN,inplace=True)\n",
    "df_derived_test.replace(np.inf,np.nan,inplace=True)\n",
    "df_derived_test.replace(-np.inf,np.nan,inplace=True)\n",
    "df_derived_test.to_csv('C:\\\\Users\\\\Admin\\\\Desktop\\\\Tookitaki\\\\Final_test')"
   ]
  },
  {
   "cell_type": "code",
   "execution_count": null,
   "metadata": {
    "collapsed": true
   },
   "outputs": [],
   "source": []
  },
  {
   "cell_type": "code",
   "execution_count": 67,
   "metadata": {
    "collapsed": true
   },
   "outputs": [],
   "source": [
    "import csv\n",
    "from csv import DictReader\n",
    "import seaborn\n",
    "import imblearn"
   ]
  },
  {
   "cell_type": "code",
   "execution_count": 68,
   "metadata": {},
   "outputs": [
    {
     "name": "stderr",
     "output_type": "stream",
     "text": [
      "C:\\Users\\Admin\\Anaconda3\\lib\\site-packages\\sklearn\\cross_validation.py:41: DeprecationWarning: This module was deprecated in version 0.18 in favor of the model_selection module into which all the refactored classes and functions are moved. Also note that the interface of the new CV iterators are different from that of this module. This module will be removed in 0.20.\n",
      "  \"This module will be removed in 0.20.\", DeprecationWarning)\n",
      "C:\\Users\\Admin\\Anaconda3\\lib\\site-packages\\sklearn\\grid_search.py:42: DeprecationWarning: This module was deprecated in version 0.18 in favor of the model_selection module into which all the refactored classes and functions are moved. This module will be removed in 0.20.\n",
      "  DeprecationWarning)\n"
     ]
    }
   ],
   "source": [
    "from sklearn import metrics\n",
    "from sklearn.tree import DecisionTreeClassifier, export_graphviz, export \n",
    "from sklearn.grid_search import GridSearchCV"
   ]
  },
  {
   "cell_type": "code",
   "execution_count": 69,
   "metadata": {
    "collapsed": true
   },
   "outputs": [],
   "source": [
    "from sklearn.ensemble import RandomForestClassifier"
   ]
  },
  {
   "cell_type": "code",
   "execution_count": 70,
   "metadata": {
    "collapsed": true
   },
   "outputs": [],
   "source": [
    "imp1 = Imputer(missing_values=\"NaN\", strategy='mean', axis=0)\n",
    "imp2 = Imputer(missing_values=\"NaN\", strategy='mean', axis=0)"
   ]
  },
  {
   "cell_type": "code",
   "execution_count": 71,
   "metadata": {
    "collapsed": true
   },
   "outputs": [],
   "source": [
    "dict_of_features = {0:'diff_opened_lastPaymt_dt_sum', 1:'diff_highcr_creditlim_mean', 2:'1DPDReported_mean', 3:'2DPDReported_mean', 4:'3DPDReported_mean', 5:'totalDPD_sum', 6:'frequencyofDPDreported_mean', 7:'ratio_totalCurrbal_totalcrlim', 8:'ratio_totalCurrbal_totalhighCr', 9:'ratio_totalhighcr_totalcrlim', 10:'avg_creditcount', 11:'avg_loancount', 12:'avg_payhistlength', 13:'meanAcctWithHighCrGreaterThanCreditLim', 14:'meanAcctWithCurrBalEqualsZero', 15:'meanGapEnquiryDates', 16:'mostFrequentEnquiryPorpose', 17:'mostRecentEnquiryPorpose', 18:'feature_3', 19:'feature_4', 20:'feature_6', 21:'feature_7', 22:'feature_14', 23:'feature_19', 24:'feature_25', 25:'feature_26', 26:'feature_29', 27:'feature_30', 28:'feature_31', 29:'feature_34', 30:'feature_35', 31:'feature_39', 32:'feature_40', 33:'feature_41', 34:'feature_42', 35:'feature_44', 36:'feature_49', 37:'feature_52', 38:'feature_55', 39:'feature_56', 40:'feature_64', 41:'feature_65', 42:'feature_66', 43:'feature_67', 44:'feature_68', 45:'feature_69', 46:'feature_71', 47:'feature_74', 48:'feature_76', 49:'feature_78'}"
   ]
  },
  {
   "cell_type": "code",
   "execution_count": 72,
   "metadata": {
    "collapsed": true
   },
   "outputs": [],
   "source": [
    "from collections import Counter\n",
    "import csv\n",
    "from csv import DictReader\n",
    "import imblearn\n",
    "from sklearn.metrics import classification_report\n",
    "from imblearn.ensemble import BalancedBaggingClassifier\n",
    "from sklearn.ensemble import RandomForestClassifier\n",
    "from sklearn import metrics\n",
    "from sklearn.linear_model import LogisticRegression\n",
    "from sklearn.pipeline import Pipeline\n",
    "from sklearn.feature_selection import SelectFromModel\n",
    "from sklearn.svm import LinearSVC\n",
    "from sklearn.svm import SVC\n",
    "from sklearn.model_selection import StratifiedKFold\n",
    "from sklearn.feature_selection import RFECV\n",
    "from sklearn.feature_selection import SelectKBest\n",
    "from sklearn.feature_selection import chi2\n",
    "from sklearn.feature_selection import mutual_info_classif\n",
    "from sklearn.feature_selection import SelectPercentile, f_classif\n",
    "from sklearn import feature_selection\n",
    "from sklearn.preprocessing import normalize, Imputer\n",
    "from sklearn.preprocessing import StandardScaler\n",
    "from collections import Counter\n",
    "from sklearn.datasets import make_classification\n",
    "import pickle\n",
    "from imblearn.ensemble import EasyEnsemble\n",
    "from sklearn.tree import DecisionTreeClassifier\n",
    "from sklearn.metrics import confusion_matrix"
   ]
  },
  {
   "cell_type": "code",
   "execution_count": null,
   "metadata": {
    "collapsed": true
   },
   "outputs": [],
   "source": []
  },
  {
   "cell_type": "code",
   "execution_count": 74,
   "metadata": {
    "collapsed": true
   },
   "outputs": [],
   "source": [
    "X1 = pd.read_csv('C:\\\\Users\\\\Admin\\\\Desktop\\\\Tookitaki\\\\Final_train.csv', engine='python')\n",
    "Y_train = X1['Bad_label'].values\n",
    "X1.drop(['customer_no','Bad_label'],axis=1,inplace=True)\n",
    "X_train = X1.values"
   ]
  },
  {
   "cell_type": "code",
   "execution_count": 75,
   "metadata": {
    "collapsed": true
   },
   "outputs": [],
   "source": [
    "X2= pd.read_csv('C:\\\\Users\\\\Admin\\\\Desktop\\\\Tookitaki\\\\Final_test.csv', engine='python')\n",
    "Y_test = X2['Bad_label'].values\n",
    "X2.drop(['customer_no','Bad_label'],axis=1,inplace=True)\n",
    "X_test = X2.values"
   ]
  },
  {
   "cell_type": "code",
   "execution_count": 76,
   "metadata": {
    "collapsed": true
   },
   "outputs": [],
   "source": [
    "imp1.fit(X_train)\n",
    "X_train = imp1.transform(X_train).astype(float)\n",
    "#print(X_train)\n",
    "imp2.fit(X_test)\n",
    "X_test = imp2.transform(X_test).astype(float)"
   ]
  },
  {
   "cell_type": "code",
   "execution_count": 77,
   "metadata": {
    "collapsed": true
   },
   "outputs": [],
   "source": [
    "scaler = StandardScaler()\n",
    "scaler.fit(X_train)\n",
    "X_train = scaler.fit_transform(X_train)\n",
    "X_test = scaler.fit_transform(X_test)"
   ]
  },
  {
   "cell_type": "code",
   "execution_count": 78,
   "metadata": {},
   "outputs": [
    {
     "name": "stdout",
     "output_type": "stream",
     "text": [
      "(23896, 46)\n"
     ]
    }
   ],
   "source": [
    "print(X_train.shape)"
   ]
  },
  {
   "cell_type": "code",
   "execution_count": 79,
   "metadata": {
    "collapsed": true
   },
   "outputs": [],
   "source": [
    "bbc = BalancedBaggingClassifier(base_estimator=RandomForestClassifier(n_estimators=100)\\\n",
    "                                ,ratio='auto',replacement=False,random_state=0, bootstrap_features=False)"
   ]
  },
  {
   "cell_type": "code",
   "execution_count": 80,
   "metadata": {
    "collapsed": true
   },
   "outputs": [],
   "source": [
    "clf = SelectKBest(mutual_info_classif, k=46)\n",
    "X_train = clf.fit_transform(X_train, Y_train)\n",
    "X_test = clf.transform(X_test)\n",
    "bbc.fit(X_train, Y_train)\n",
    "y_pred = bbc.predict(X_test)"
   ]
  },
  {
   "cell_type": "code",
   "execution_count": 81,
   "metadata": {},
   "outputs": [
    {
     "name": "stdout",
     "output_type": "stream",
     "text": [
      "[[5923 3855]\n",
      " [ 175  287]]\n"
     ]
    }
   ],
   "source": [
    "print(confusion_matrix(Y_test, y_pred))"
   ]
  },
  {
   "cell_type": "code",
   "execution_count": 82,
   "metadata": {},
   "outputs": [
    {
     "name": "stdout",
     "output_type": "stream",
     "text": [
      "             precision    recall  f1-score   support\n",
      "\n",
      "          0       0.97      0.61      0.75      9778\n",
      "          1       0.07      0.62      0.12       462\n",
      "\n",
      "avg / total       0.93      0.61      0.72     10240\n",
      "\n"
     ]
    }
   ],
   "source": [
    "print(classification_report(Y_test,y_pred))"
   ]
  },
  {
   "cell_type": "code",
   "execution_count": 83,
   "metadata": {
    "collapsed": true
   },
   "outputs": [],
   "source": [
    "fpr, tpr, thresholds = metrics.roc_curve(Y_test, y_pred, pos_label=1)\n",
    "auc_score = metrics.auc(fpr, tpr)"
   ]
  },
  {
   "cell_type": "code",
   "execution_count": 84,
   "metadata": {},
   "outputs": [
    {
     "name": "stdout",
     "output_type": "stream",
     "text": [
      "auc score = 0.613479858929\n"
     ]
    }
   ],
   "source": [
    "print('auc score =',auc_score)"
   ]
  },
  {
   "cell_type": "code",
   "execution_count": 85,
   "metadata": {},
   "outputs": [
    {
     "name": "stdout",
     "output_type": "stream",
     "text": [
      "gini score = 0.226959717858\n"
     ]
    }
   ],
   "source": [
    "print('gini score =',2*auc_score-1)"
   ]
  },
  {
   "cell_type": "code",
   "execution_count": null,
   "metadata": {
    "collapsed": true
   },
   "outputs": [],
   "source": []
  },
  {
   "cell_type": "code",
   "execution_count": 86,
   "metadata": {
    "collapsed": true
   },
   "outputs": [],
   "source": [
    "X1 = pd.read_csv('C:\\\\Users\\\\Admin\\\\Desktop\\\\Tookitaki\\\\Final_train.csv', engine='python')\n",
    "Y_train = X1['Bad_label'].values\n",
    "X1.drop(['customer_no','Bad_label'],axis=1,inplace=True)\n",
    "X_train = X1.values"
   ]
  },
  {
   "cell_type": "code",
   "execution_count": 87,
   "metadata": {
    "collapsed": true
   },
   "outputs": [],
   "source": [
    "X2 = pd.read_csv('C:\\\\Users\\\\Admin\\\\Desktop\\\\Tookitaki\\\\Final_test.csv', engine='python')\n",
    "Y_test = X2['Bad_label'].values\n",
    "X2.drop(['customer_no','Bad_label'],axis=1,inplace=True)\n",
    "X_test = X2.values"
   ]
  },
  {
   "cell_type": "code",
   "execution_count": 88,
   "metadata": {
    "collapsed": true
   },
   "outputs": [],
   "source": [
    "imp1.fit(X_train)\n",
    "X_train = imp1.transform(X_train).astype(float)"
   ]
  },
  {
   "cell_type": "code",
   "execution_count": 89,
   "metadata": {
    "collapsed": true
   },
   "outputs": [],
   "source": [
    "imp2.fit(X_test)\n",
    "X_test = imp2.transform(X_test).astype(float)"
   ]
  },
  {
   "cell_type": "code",
   "execution_count": 90,
   "metadata": {
    "collapsed": true
   },
   "outputs": [],
   "source": [
    "feature_importance = {0: 0.03421852,  1: 0.00715693,  2: 0.05181835,  3: 0.01027565,  4: 0.00838411,  5: 0.0059313,  6: 0.00223466,  7: 0.00310911,  8: 0.00964993,  9: 0.01483778,  10: 0.0066048,  11: 0.00522294,  12: 0.02071259,  13: 0.00220598,  14: 0.03072879,  15: 0.00625178,  16: 0.01470893,  17: 0.02050969,  18: 0.00235906,  19: 0.00072533,  20: 0.00457309,  21: 0.01256962,  22: 0.00559733,  23: 0.0392486,  24: 0.0060228,  25: 0.00908848,  26: 0.01150884,  27: 0.01115191,  28: 0.01161009,  29: 0.01280016,  30: 0.01341943,  31: 0.01367287,  32: 0.01357383,  33: 0.01372479,  34: 0.01486814,  35: 0.01548993,  36: 0.01722397,  37: 0.01798768,  38: 0.00627185,  39: 0.00506561,  40: 0.00597463,  41: 0.00543547,  42: 0.00499733,  43: 0.00452328,  44: 0.00458949,  45: 0.0042845,  46: 0.00425256,  47: 0.00428415,  48: 0.00432716,  49: 0.00439585}#,  50: 0.00450958,  51: 0.00575839,  52: 0.00739246,  53: 0.00502165,  54: 0.0095109,  55: 0.0069166,  56: 0.0071989,  57: 0.00776389,  58: 0.00814988,  59: 0.0067113,  60: 0.00803184,  61: 0.00822991,  62: 0.00502434,  63: 0.00571724,  64: 0.00985963,  65: 0.00549805,  66: 0.00979168,  67: 0.01288979,  68: 0.01062375,  69: 0.00566553,  70: 0.00503578,  71: 0.01169688,  72: 0.00579325,  73: 0.01161525,  74: 0.01194471,  75: 0.00419361,  76: 0.00416345,  77: 0.0049956,  78: 0.01476468,  79: 0.01368045,  80: 0.00522837,  81: 0.01272689,  82: 0.00422461,  83: 0.01271347,  84: 0.00527942,  85: 0.01348907,  86: 0.01594457,  87: 0.01447534,  88: 0.00454526,  89: 0.00494497,  90: 0.01684405,  91: 0.00459594,  92: 0.00517932,  93: 0.00542252,  94: 0.01753486,  95: 0.00552958,  96: 0.00558431,  97: 0.01830974,  98: 0.01795993,  99: 0.01113913}\n",
    "\n",
    "sorted_feature_importance = [(k, feature_importance[k]) for k in sorted(feature_importance, key=feature_importance.get, reverse=True)]"
   ]
  },
  {
   "cell_type": "code",
   "execution_count": 91,
   "metadata": {},
   "outputs": [
    {
     "name": "stdout",
     "output_type": "stream",
     "text": [
      "<class 'list'>\n",
      "(2, 0.05181835)\n",
      "(23, 0.0392486)\n",
      "(0, 0.03421852)\n",
      "(14, 0.03072879)\n",
      "(12, 0.02071259)\n",
      "(17, 0.02050969)\n",
      "(37, 0.01798768)\n",
      "(36, 0.01722397)\n",
      "(35, 0.01548993)\n",
      "(34, 0.01486814)\n",
      "(9, 0.01483778)\n",
      "(16, 0.01470893)\n",
      "(33, 0.01372479)\n",
      "(31, 0.01367287)\n",
      "(32, 0.01357383)\n",
      "(30, 0.01341943)\n",
      "(29, 0.01280016)\n",
      "(21, 0.01256962)\n",
      "(28, 0.01161009)\n",
      "(26, 0.01150884)\n",
      "(27, 0.01115191)\n",
      "(3, 0.01027565)\n",
      "(8, 0.00964993)\n",
      "(25, 0.00908848)\n",
      "(4, 0.00838411)\n",
      "(1, 0.00715693)\n",
      "(10, 0.0066048)\n",
      "(38, 0.00627185)\n",
      "(15, 0.00625178)\n",
      "(24, 0.0060228)\n",
      "(40, 0.00597463)\n",
      "(5, 0.0059313)\n",
      "(22, 0.00559733)\n",
      "(41, 0.00543547)\n",
      "(11, 0.00522294)\n",
      "(39, 0.00506561)\n",
      "(42, 0.00499733)\n",
      "(44, 0.00458949)\n",
      "(20, 0.00457309)\n",
      "(43, 0.00452328)\n",
      "(49, 0.00439585)\n",
      "(48, 0.00432716)\n",
      "(45, 0.0042845)\n",
      "(47, 0.00428415)\n",
      "(46, 0.00425256)\n",
      "(7, 0.00310911)\n",
      "(18, 0.00235906)\n",
      "(6, 0.00223466)\n",
      "(13, 0.00220598)\n",
      "(19, 0.00072533)\n"
     ]
    }
   ],
   "source": [
    "print(type(sorted_feature_importance))\n",
    "for each in sorted_feature_importance:\n",
    "        print(each)"
   ]
  },
  {
   "cell_type": "code",
   "execution_count": 92,
   "metadata": {
    "collapsed": true
   },
   "outputs": [],
   "source": [
    "from sklearn.ensemble import RandomForestClassifier"
   ]
  },
  {
   "cell_type": "code",
   "execution_count": 93,
   "metadata": {},
   "outputs": [
    {
     "data": {
      "text/plain": [
       "RandomForestClassifier(bootstrap=True, class_weight=None, criterion='gini',\n",
       "            max_depth=None, max_features='auto', max_leaf_nodes=None,\n",
       "            min_impurity_decrease=0.0, min_impurity_split=None,\n",
       "            min_samples_leaf=1, min_samples_split=2,\n",
       "            min_weight_fraction_leaf=0.0, n_estimators=100, n_jobs=1,\n",
       "            oob_score=True, random_state=None, verbose=0, warm_start=False)"
      ]
     },
     "execution_count": 93,
     "metadata": {},
     "output_type": "execute_result"
    }
   ],
   "source": [
    "radm_clf = RandomForestClassifier(oob_score=True,n_estimators=100 )\n",
    "radm_clf.fit( X_train, Y_train )"
   ]
  },
  {
   "cell_type": "code",
   "execution_count": 96,
   "metadata": {
    "collapsed": true
   },
   "outputs": [],
   "source": [
    "scaler = StandardScaler()\n",
    "scaler.fit(X_train)\n",
    "X_train = scaler.fit_transform(X_train)\n",
    "X_test = scaler.fit_transform(X_test)"
   ]
  },
  {
   "cell_type": "code",
   "execution_count": 97,
   "metadata": {},
   "outputs": [
    {
     "name": "stdout",
     "output_type": "stream",
     "text": [
      "(23896, 46)\n"
     ]
    }
   ],
   "source": [
    "print(X_train.shape)\n",
    "bbc = BalancedBaggingClassifier(base_estimator=RandomForestClassifier(n_estimators=100)\\\n",
    "                                ,ratio='auto',replacement=False,random_state=0, bootstrap_features=False)"
   ]
  },
  {
   "cell_type": "code",
   "execution_count": null,
   "metadata": {
    "collapsed": true
   },
   "outputs": [],
   "source": [
    "for i in range(11):\n",
    "        temp_feat = []\n",
    "        for j in range(10):\n",
    "            temp_feat.append(sorted_feature_importance[(i*4)+j][0])\n",
    "            X_train_new = X_train[:,temp_feat]\n",
    "            X_test_new =  X_test[:,temp_feat]\n",
    "            bbc.fit(X_train_new, Y_train)\n",
    "            y_pred = bbc.predict(X_test_new)\n",
    "            fpr, tpr, thresholds = metrics.roc_curve(Y_test, y_pred, pos_label=1)\n",
    "            auc_score = metrics.auc(fpr, tpr)\n",
    "        print(2*auc_score-1)"
   ]
  }
 ],
 "metadata": {
  "kernelspec": {
   "display_name": "Python 3",
   "language": "python",
   "name": "python3"
  },
  "language_info": {
   "codemirror_mode": {
    "name": "ipython",
    "version": 3
   },
   "file_extension": ".py",
   "mimetype": "text/x-python",
   "name": "python",
   "nbconvert_exporter": "python",
   "pygments_lexer": "ipython3",
   "version": "3.6.1"
  }
 },
 "nbformat": 4,
 "nbformat_minor": 2
}
